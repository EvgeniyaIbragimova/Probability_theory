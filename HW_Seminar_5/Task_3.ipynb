{
 "cells": [
  {
   "attachments": {},
   "cell_type": "markdown",
   "metadata": {},
   "source": [
    "Проведите тест гипотезы. Продавец утверждает, что средний вес пачки печенья составляет 200 г.\n",
    "Из партии извлечена выборка из 10 пачек. Вес каждой пачки составляет: 202, 203, 199, 197, 195, 201, 200, 204, 194, 190.\n",
    "Известно, что их веса распределены нормально.\n",
    "Верно ли утверждение продавца, если учитывать, что доверительная вероятность равна 99%? (Провести двусторонний тест.)"
   ]
  },
  {
   "cell_type": "code",
   "execution_count": 1,
   "metadata": {},
   "outputs": [],
   "source": [
    "from math import factorial, e\n",
    "from sympy.plotting import plot\n",
    "import numpy as np\n",
    "import pandas as pd\n",
    "from matplotlib import *\n",
    "from matplotlib import pyplot as plt\n",
    "from scipy import stats"
   ]
  },
  {
   "cell_type": "code",
   "execution_count": 2,
   "metadata": {},
   "outputs": [
    {
     "name": "stdout",
     "output_type": "stream",
     "text": [
      "среднее x - 198.5,\n",
      "дисперсия x - 19.83,\n",
      "стандартное отклонение x - 4.45,\n",
      "размер x - 10.\n",
      "-1.0651074037450896\n",
      "При альфе 0.005 (1 - 0.99 / 2): 2.5758293035489004 и -2.575829303548901\n"
     ]
    }
   ],
   "source": [
    "x_pack = np.array([202, 203, 199, 197, 195, 201, 200, 204, 194, 190])\n",
    "xpack_mean = np.mean(x_pack)\n",
    "xpack_v = np.var(x_pack, ddof=1)\n",
    "xpack_sigm = xpack_v**0.5\n",
    "n_xpack = len(x_pack)\n",
    "print(f'среднее x - {xpack_mean},\\nдисперсия x - {xpack_v:.2f},\\nстандартное отклонение x - {xpack_sigm:.2f},\\nразмер x - {n_xpack}.')\n",
    "t_pack = (xpack_mean - 200) / (xpack_sigm / (10 ** 0.5))\n",
    "print(t_pack)\n",
    "t_1pack = stats.norm.ppf(1-0.005)\n",
    "t_2pack = stats.norm.ppf(0.005)\n",
    "print(f'При альфе 0.005 (1 - 0.99 / 2): {t_1pack} и {t_2pack}')"
   ]
  },
  {
   "attachments": {},
   "cell_type": "markdown",
   "metadata": {},
   "source": [
    "Ответ: гипотеза о том, что средний вес пачки печенья составляет 200 г верна."
   ]
  }
 ],
 "metadata": {
  "kernelspec": {
   "display_name": "base",
   "language": "python",
   "name": "python3"
  },
  "language_info": {
   "codemirror_mode": {
    "name": "ipython",
    "version": 3
   },
   "file_extension": ".py",
   "mimetype": "text/x-python",
   "name": "python",
   "nbconvert_exporter": "python",
   "pygments_lexer": "ipython3",
   "version": "3.11.1"
  },
  "orig_nbformat": 4
 },
 "nbformat": 4,
 "nbformat_minor": 2
}
