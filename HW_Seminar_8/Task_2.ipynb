{
 "cells": [
  {
   "attachments": {},
   "cell_type": "markdown",
   "metadata": {},
   "source": [
    "Измерены значения IQ выборки студентов, обучающихся в местных технических вузах:\n",
    "131, 125, 115, 122, 131, 115, 107, 99, 125, 111.\n",
    "Известно, что в генеральной совокупности IQ распределен нормально.\n",
    "Найдите доверительный интервал для математического ожидания с надежностью 0.95."
   ]
  },
  {
   "cell_type": "code",
   "execution_count": 3,
   "metadata": {},
   "outputs": [],
   "source": [
    "import numpy as np\n",
    "import scipy.stats as stats\n",
    "import matplotlib.pyplot as plt"
   ]
  },
  {
   "cell_type": "code",
   "execution_count": 4,
   "metadata": {},
   "outputs": [
    {
     "name": "stdout",
     "output_type": "stream",
     "text": [
      "ОТВЕТ: Доверительный интервал с надежностью 0.95: (110.56, 125.64]\n"
     ]
    }
   ],
   "source": [
    "arr_IQ = [ 131, 125, 115, 122, 131, 115, 107, 99, 125, 111 ]\n",
    "a = 1 - 0.95\n",
    "\n",
    "mu = np.mean(arr_IQ)       \n",
    "dev = np.std(arr_IQ, ddof=1 )         \n",
    "t_st = stats.t.ppf(1 - a / 2, (len(arr_IQ) - 1))                           \n",
    "\n",
    "print( f\"ОТВЕТ: Доверительный интервал с надежностью 0.95: ({(mu - t_st * dev / 10**0.5 ):.2f}, {( mu + t_st * dev / 10**0.5 ):.2f}]\" )"
   ]
  }
 ],
 "metadata": {
  "kernelspec": {
   "display_name": "Python 3",
   "language": "python",
   "name": "python3"
  },
  "language_info": {
   "codemirror_mode": {
    "name": "ipython",
    "version": 3
   },
   "file_extension": ".py",
   "mimetype": "text/x-python",
   "name": "python",
   "nbconvert_exporter": "python",
   "pygments_lexer": "ipython3",
   "version": "3.11.1"
  },
  "orig_nbformat": 4
 },
 "nbformat": 4,
 "nbformat_minor": 2
}
