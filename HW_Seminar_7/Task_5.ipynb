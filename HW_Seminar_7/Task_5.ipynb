{
 "cells": [
  {
   "attachments": {},
   "cell_type": "markdown",
   "metadata": {},
   "source": [
    "Заявляется, что партия изготавливается со средним арифметическим 2,5 см. \n",
    "Проверить данную гипотезу, если известно, что размеры изделий подчинены нормальному закону распределения. \n",
    "Объем выборки 10, уровень статистической значимости 5% 2.51, 2.35, 2.74, 2.56, 2.40, 2.36, 2.65, 2.7, 2.67, 2.34"
   ]
  },
  {
   "cell_type": "code",
   "execution_count": 1,
   "metadata": {},
   "outputs": [],
   "source": [
    "import numpy as np\n",
    "import scipy.stats as stats"
   ]
  },
  {
   "cell_type": "code",
   "execution_count": 2,
   "metadata": {},
   "outputs": [
    {
     "name": "stdout",
     "output_type": "stream",
     "text": [
      "среднее: 2.5279999999999996\n",
      "ср. кв. отклонение: 0.1572542173961923\n",
      "t критическое: -2.262157162740992\n",
      "Доверительный интервал (2.4155071095954663, 2.640492890404533]\n"
     ]
    }
   ],
   "source": [
    "x = [2.51, 2.35, 2.74, 2.56, 2.40, 2.36, 2.65, 2.7, 2.67, 2.34]\n",
    "n = len(x)\n",
    "x_mean = np.mean(x)\n",
    "print(f'среднее: {x_mean}')\n",
    "x_std = np.std(x, ddof=1)\n",
    "print(f'ср. кв. отклонение: {x_std}')\n",
    "\n",
    "t_cr = stats.t.ppf(0.05/2, n-1)\n",
    "print(f't критическое: {t_cr}')\n",
    "X1 = x_mean - t_cr*x_std/n**0.5\n",
    "X2 = x_mean + t_cr*x_std/n**0.5\n",
    "print(f'Доверительный интервал ({X2}, {X1}]')"
   ]
  },
  {
   "attachments": {},
   "cell_type": "markdown",
   "metadata": {},
   "source": [
    "Используем критерий Cтьюдента поскольку среднее квадратичное отклонение генеральной совокупности неизвестно. \n",
    "2,5 входит в доверительный интервла.\n",
    "Гипотеза о том, что партия изготавливается со средним арифметическим 2,5 см не отклоняется"
   ]
  }
 ],
 "metadata": {
  "kernelspec": {
   "display_name": "Python 3",
   "language": "python",
   "name": "python3"
  },
  "language_info": {
   "codemirror_mode": {
    "name": "ipython",
    "version": 3
   },
   "file_extension": ".py",
   "mimetype": "text/x-python",
   "name": "python",
   "nbconvert_exporter": "python",
   "pygments_lexer": "ipython3",
   "version": "3.11.1"
  },
  "orig_nbformat": 4
 },
 "nbformat": 4,
 "nbformat_minor": 2
}
