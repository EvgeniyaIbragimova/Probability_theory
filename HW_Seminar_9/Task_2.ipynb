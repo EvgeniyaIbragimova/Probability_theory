{
 "cells": [
  {
   "attachments": {},
   "cell_type": "markdown",
   "metadata": {},
   "source": [
    "Посчитать коэффициент линейной регрессии при заработной плате (zp), используя градиентный спуск (без intercept)."
   ]
  },
  {
   "cell_type": "code",
   "execution_count": 1,
   "metadata": {},
   "outputs": [],
   "source": [
    "import numpy as np\n",
    "import scipy.stats as stats\n",
    "import matplotlib.pyplot as plt\n",
    "from sklearn.linear_model import LinearRegression"
   ]
  },
  {
   "cell_type": "code",
   "execution_count": 5,
   "metadata": {},
   "outputs": [],
   "source": [
    "zp = np.array([35, 45, 190, 200, 40, 70, 54, 150, 120, 110])\n",
    "ks = np.array([401, 574, 874, 919, 459, 739, 653, 902, 746, 832])\n",
    "n = (len(zp) + len(ks))/2"
   ]
  },
  {
   "cell_type": "code",
   "execution_count": 6,
   "metadata": {},
   "outputs": [
    {
     "name": "stdout",
     "output_type": "stream",
     "text": [
      "518336.326\n",
      "1 итерация: B2 = 0.25952808\n",
      "51 итерация: B2 = 4.497229618367758\n",
      "101 итерация: B2 = 5.54537842245223\n",
      "151 итерация: B2 = 5.804626485478126\n",
      "201 итерация: B2 = 5.868748638669329\n",
      "251 итерация: B2 = 5.884608547059329\n",
      "301 итерация: B2 = 5.888531320728348\n",
      "351 итерация: B2 = 5.889501575592372\n",
      "401 итерация: B2 = 5.8897415574471985\n",
      "451 итерация: B2 = 5.889800914315978\n",
      "501 итерация: B2 = 5.889815595583751\n",
      "551 итерация: B2 = 5.889819226833643\n",
      "601 итерация: B2 = 5.889820124983314\n",
      "651 итерация: B2 = 5.889820347130743\n",
      "701 итерация: B2 = 5.889820402076462\n",
      "751 итерация: B2 = 5.889820415666681\n",
      "801 итерация: B2 = 5.88982041902807\n",
      "851 итерация: B2 = 5.889820419859474\n",
      "901 итерация: B2 = 5.889820420065112\n",
      "951 итерация: B2 = 5.889820420115975\n"
     ]
    }
   ],
   "source": [
    "def mse_(B2, y = ks, x = zp, n = n):\n",
    "    return np.sum((B2 * x - y)**2)/n\n",
    "alfa = 0.000001\n",
    "B2 = 0.1\n",
    "print(mse_(B2, ks, zp, n))\n",
    "for i in range(1000):\n",
    "    B2 -= alfa * (2 / n) * np.sum((B2 * zp - ks) * zp)\n",
    "    if i % 50 == 0:\n",
    "        print(f'{ i + 1 } итерация: B2 = {B2}')"
   ]
  },
  {
   "attachments": {},
   "cell_type": "markdown",
   "metadata": {},
   "source": [
    "Коэфициент линейной регрессии после 651 итераций: B1 = 5.889820347130743"
   ]
  }
 ],
 "metadata": {
  "kernelspec": {
   "display_name": "Python 3",
   "language": "python",
   "name": "python3"
  },
  "language_info": {
   "codemirror_mode": {
    "name": "ipython",
    "version": 3
   },
   "file_extension": ".py",
   "mimetype": "text/x-python",
   "name": "python",
   "nbconvert_exporter": "python",
   "pygments_lexer": "ipython3",
   "version": "3.11.1"
  },
  "orig_nbformat": 4
 },
 "nbformat": 4,
 "nbformat_minor": 2
}
