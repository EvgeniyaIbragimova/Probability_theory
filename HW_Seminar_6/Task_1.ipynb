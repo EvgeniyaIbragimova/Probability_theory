{
 "cells": [
  {
   "attachments": {},
   "cell_type": "markdown",
   "metadata": {},
   "source": [
    "Известно, что генеральная совокупность распределена нормально со средним квадратическим отклонением, равным 16.\n",
    "Найти доверительный интервал для оценки математического ожидания с надежностью 0.95, если выборочная средняя M = 80, а объем выборки n = 256."
   ]
  },
  {
   "cell_type": "code",
   "execution_count": 1,
   "metadata": {},
   "outputs": [],
   "source": [
    "import numpy as np\n",
    "from scipy import stats"
   ]
  },
  {
   "attachments": {},
   "cell_type": "markdown",
   "metadata": {},
   "source": [
    "alpha = 0.05 M = 80 n = 256 z = 1.96 sigma = 16"
   ]
  },
  {
   "cell_type": "code",
   "execution_count": 2,
   "metadata": {},
   "outputs": [
    {
     "name": "stdout",
     "output_type": "stream",
     "text": [
      "доверительный интервал (78.04 < M < 81.96)\n"
     ]
    }
   ],
   "source": [
    "alpha = 0.05 \n",
    "M = 80 \n",
    "n = 256 \n",
    "z = 1.96 \n",
    "sigma = 16\n",
    "\n",
    "t_11 = M + z * (sigma/ n**0.5)\n",
    "t_12 = M - z * (sigma/ n**0.5)\n",
    "print (f'доверительный интервал ({t_12} < M < {t_11})')"
   ]
  }
 ],
 "metadata": {
  "kernelspec": {
   "display_name": "Python 3",
   "language": "python",
   "name": "python3"
  },
  "language_info": {
   "codemirror_mode": {
    "name": "ipython",
    "version": 3
   },
   "file_extension": ".py",
   "mimetype": "text/x-python",
   "name": "python",
   "nbconvert_exporter": "python",
   "pygments_lexer": "ipython3",
   "version": "3.11.1"
  },
  "orig_nbformat": 4
 },
 "nbformat": 4,
 "nbformat_minor": 2
}
