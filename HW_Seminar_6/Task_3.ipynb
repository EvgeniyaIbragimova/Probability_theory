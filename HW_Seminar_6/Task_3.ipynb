{
 "cells": [
  {
   "attachments": {},
   "cell_type": "markdown",
   "metadata": {},
   "source": [
    "Рост дочерей 175, 167, 154, 174, 178, 148, 160, 167, 169, 170\n",
    "Рост матерей 178, 165, 165, 173, 168, 155, 160, 164, 178, 175\n",
    "Используя эти данные построить 95% доверительный интервал для разности среднего роста родителей и детей."
   ]
  },
  {
   "cell_type": "code",
   "execution_count": 1,
   "metadata": {},
   "outputs": [],
   "source": [
    "import numpy as np\n",
    "from scipy import stats"
   ]
  },
  {
   "cell_type": "code",
   "execution_count": 2,
   "metadata": {},
   "outputs": [],
   "source": [
    "x = np.array([175, 167, 154, 174, 178, 148, 160, 167, 169, 170])\n",
    "y = np.array([178, 165, 165, 173, 168, 155, 160, 164, 178, 175])"
   ]
  },
  {
   "cell_type": "code",
   "execution_count": 3,
   "metadata": {},
   "outputs": [
    {
     "name": "stdout",
     "output_type": "stream",
     "text": [
      "среднее x - 166.2\n",
      "среднее y - 168.1\n",
      "ср. кв. отклонение x - 9.54\n",
      "ср. кв. отклонение y - 7.75\n",
      "несмещенная дисп. x - 91.07\n",
      "несмещенная дисп. y - 60.10\n",
      "\n",
      "дисперсия 2 выборок - 75.58\n",
      "df - 18\n",
      "S - 3.8880157750022915\n",
      "\n",
      "t критическое - 2.10\n",
      "интервал  (-10.068418034506857 : 6.268418034506846)\n"
     ]
    }
   ],
   "source": [
    "x_mean = np.mean(x)\n",
    "y_mean = np.mean(y)\n",
    "x_v = np.var(x, ddof=1)\n",
    "y_v = np.var(y, ddof=1)\n",
    "x_std = np.std(x,ddof=1)\n",
    "y_std = np.std(y,ddof=1)\n",
    "xy_v = 1/2 * (x_v + y_v)\n",
    "S_d = (xy_v/10 + xy_v/10)**0.5\n",
    "df = 2 *(10-1)\n",
    "t_cr = stats.t.ppf(0.975,df)\n",
    "d_mean = x_mean - y_mean\n",
    "left_p = d_mean - t_cr * S_d\n",
    "right_p = d_mean + t_cr * S_d\n",
    "print(f'среднее x - {x_mean}\\nсреднее y - {y_mean}\\nср. кв. отклонение x - {x_std:.2f}\\nср. кв. отклонение y - {y_std:.2f}\\nнесмещенная дисп. x - {x_v:.2f}\\nнесмещенная дисп. y - {y_v:.2f}')\n",
    "print(f'\\nдисперсия 2 выборок - {xy_v:.2f}\\ndf - {df}\\nS - {S_d}')\n",
    "print(f'\\nt критическое - {t_cr:.2f}\\nинтервал  ({left_p} : {right_p})')"
   ]
  }
 ],
 "metadata": {
  "kernelspec": {
   "display_name": "Python 3",
   "language": "python",
   "name": "python3"
  },
  "language_info": {
   "codemirror_mode": {
    "name": "ipython",
    "version": 3
   },
   "file_extension": ".py",
   "mimetype": "text/x-python",
   "name": "python",
   "nbconvert_exporter": "python",
   "pygments_lexer": "ipython3",
   "version": "3.11.1"
  },
  "orig_nbformat": 4
 },
 "nbformat": 4,
 "nbformat_minor": 2
}
